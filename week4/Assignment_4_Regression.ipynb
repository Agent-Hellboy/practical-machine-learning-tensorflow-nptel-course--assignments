{
  "nbformat": 4,
  "nbformat_minor": 0,
  "metadata": {
    "colab": {
      "name": "Assignment 4 - Regression.ipynb",
      "provenance": [],
      "collapsed_sections": []
    },
    "kernelspec": {
      "name": "python3",
      "display_name": "Python 3"
    },
    "accelerator": "TPU"
  },
  "cells": [
    {
      "cell_type": "markdown",
      "metadata": {
        "id": "pLVhCarMwG70",
        "colab_type": "text"
      },
      "source": [
        "### **Setup**"
      ]
    },
    {
      "cell_type": "markdown",
      "metadata": {
        "id": "teXJ1XpSwdvR",
        "colab_type": "text"
      },
      "source": [
        "Install and import all the necessary libraries for the assignment."
      ]
    },
    {
      "cell_type": "code",
      "metadata": {
        "id": "UQNMrFD-ZBwK",
        "colab_type": "code",
        "colab": {
          "base_uri": "https://localhost:8080/",
          "height": 581
        },
        "outputId": "aed190d4-bed6-4a28-a270-8d7a926c85fc"
      },
      "source": [
        "!pip install tensorflow==2.0.0-rc0\n",
        "\n",
        "from sklearn.model_selection import train_test_split\n",
        "from sklearn.datasets import load_boston\n",
        "import tensorflow as tf\n",
        "import pandas as pd\n",
        "\n",
        "\n",
        "tf.random.set_seed(1)"
      ],
      "execution_count": 1,
      "outputs": [
        {
          "output_type": "stream",
          "text": [
            "Collecting tensorflow==2.0.0-rc0\n",
            "\u001b[?25l  Downloading https://files.pythonhosted.org/packages/fb/4b/77f0965ec7e8a76d3dcd6a22ca8bbd2b934cd92c4ded43fef6bea5ff3258/tensorflow-2.0.0rc0-cp36-cp36m-manylinux2010_x86_64.whl (86.3MB)\n",
            "\u001b[K     |████████████████████████████████| 86.3MB 1.2MB/s \n",
            "\u001b[?25hRequirement already satisfied: google-pasta>=0.1.6 in /usr/local/lib/python3.6/dist-packages (from tensorflow==2.0.0-rc0) (0.1.7)\n",
            "Requirement already satisfied: numpy<2.0,>=1.16.0 in /usr/local/lib/python3.6/dist-packages (from tensorflow==2.0.0-rc0) (1.16.5)\n",
            "Requirement already satisfied: gast>=0.2.0 in /usr/local/lib/python3.6/dist-packages (from tensorflow==2.0.0-rc0) (0.3.2)\n",
            "Requirement already satisfied: keras-preprocessing>=1.0.5 in /usr/local/lib/python3.6/dist-packages (from tensorflow==2.0.0-rc0) (1.1.0)\n",
            "Requirement already satisfied: wheel>=0.26 in /usr/local/lib/python3.6/dist-packages (from tensorflow==2.0.0-rc0) (0.33.6)\n",
            "Collecting tf-estimator-nightly<1.14.0.dev2019080602,>=1.14.0.dev2019080601 (from tensorflow==2.0.0-rc0)\n",
            "\u001b[?25l  Downloading https://files.pythonhosted.org/packages/21/28/f2a27a62943d5f041e4a6fd404b2d21cb7c59b2242a4e73b03d9ba166552/tf_estimator_nightly-1.14.0.dev2019080601-py2.py3-none-any.whl (501kB)\n",
            "\u001b[K     |████████████████████████████████| 501kB 32.6MB/s \n",
            "\u001b[?25hCollecting tb-nightly<1.15.0a20190807,>=1.15.0a20190806 (from tensorflow==2.0.0-rc0)\n",
            "\u001b[?25l  Downloading https://files.pythonhosted.org/packages/bc/88/24b5fb7280e74c7cf65bde47c171547fd02afb3840cff41bcbe9270650f5/tb_nightly-1.15.0a20190806-py3-none-any.whl (4.3MB)\n",
            "\u001b[K     |████████████████████████████████| 4.3MB 33.8MB/s \n",
            "\u001b[?25hRequirement already satisfied: wrapt>=1.11.1 in /usr/local/lib/python3.6/dist-packages (from tensorflow==2.0.0-rc0) (1.11.2)\n",
            "Requirement already satisfied: six>=1.10.0 in /usr/local/lib/python3.6/dist-packages (from tensorflow==2.0.0-rc0) (1.12.0)\n",
            "Requirement already satisfied: protobuf>=3.6.1 in /usr/local/lib/python3.6/dist-packages (from tensorflow==2.0.0-rc0) (3.7.1)\n",
            "Requirement already satisfied: grpcio>=1.8.6 in /usr/local/lib/python3.6/dist-packages (from tensorflow==2.0.0-rc0) (1.15.0)\n",
            "Requirement already satisfied: keras-applications>=1.0.8 in /usr/local/lib/python3.6/dist-packages (from tensorflow==2.0.0-rc0) (1.0.8)\n",
            "Requirement already satisfied: termcolor>=1.1.0 in /usr/local/lib/python3.6/dist-packages (from tensorflow==2.0.0-rc0) (1.1.0)\n",
            "Requirement already satisfied: absl-py>=0.7.0 in /usr/local/lib/python3.6/dist-packages (from tensorflow==2.0.0-rc0) (0.8.0)\n",
            "Requirement already satisfied: astor>=0.6.0 in /usr/local/lib/python3.6/dist-packages (from tensorflow==2.0.0-rc0) (0.8.0)\n",
            "Requirement already satisfied: opt-einsum>=2.3.2 in /usr/local/lib/python3.6/dist-packages (from tensorflow==2.0.0-rc0) (3.0.1)\n",
            "Requirement already satisfied: werkzeug>=0.11.15 in /usr/local/lib/python3.6/dist-packages (from tb-nightly<1.15.0a20190807,>=1.15.0a20190806->tensorflow==2.0.0-rc0) (0.16.0)\n",
            "Requirement already satisfied: markdown>=2.6.8 in /usr/local/lib/python3.6/dist-packages (from tb-nightly<1.15.0a20190807,>=1.15.0a20190806->tensorflow==2.0.0-rc0) (3.1.1)\n",
            "Requirement already satisfied: setuptools>=41.0.0 in /usr/local/lib/python3.6/dist-packages (from tb-nightly<1.15.0a20190807,>=1.15.0a20190806->tensorflow==2.0.0-rc0) (41.2.0)\n",
            "Requirement already satisfied: h5py in /usr/local/lib/python3.6/dist-packages (from keras-applications>=1.0.8->tensorflow==2.0.0-rc0) (2.8.0)\n",
            "Installing collected packages: tf-estimator-nightly, tb-nightly, tensorflow\n",
            "  Found existing installation: tensorflow 1.14.0\n",
            "    Uninstalling tensorflow-1.14.0:\n",
            "      Successfully uninstalled tensorflow-1.14.0\n",
            "Successfully installed tb-nightly-1.15.0a20190806 tensorflow-2.0.0rc0 tf-estimator-nightly-1.14.0.dev2019080601\n"
          ],
          "name": "stdout"
        }
      ]
    },
    {
      "cell_type": "markdown",
      "metadata": {
        "id": "qGGgAUOKwsWA",
        "colab_type": "text"
      },
      "source": [
        "### **Importing the dataset**"
      ]
    },
    {
      "cell_type": "code",
      "metadata": {
        "id": "GOe2azQOdmND",
        "colab_type": "code",
        "colab": {}
      },
      "source": [
        "boston_dataset = load_boston()\n",
        "\n",
        "data_X = pd.DataFrame(boston_dataset.data, columns=boston_dataset.feature_names)\n",
        "data_Y = pd.DataFrame(boston_dataset.target, columns=[\"target\"])\n",
        "data = pd.concat([data_X, data_Y], axis=1)\n",
        "data_X."
      ],
      "execution_count": 0,
      "outputs": []
    },
    {
      "cell_type": "code",
      "metadata": {
        "id": "9gD5esSxfxjs",
        "colab_type": "code",
        "colab": {
          "base_uri": "https://localhost:8080/",
          "height": 68
        },
        "outputId": "363f4859-6c58-4656-cb45-d10dabd98e36"
      },
      "source": [
        "train, test = train_test_split(data, test_size=0.2, random_state=1)\n",
        "train, val = train_test_split(train, test_size=0.2, random_state=1)\n",
        "print(len(train), \"train examples\")\n",
        "print(len(val), \"validation examples\")\n",
        "print(len(test), \"test examples\")"
      ],
      "execution_count": 3,
      "outputs": [
        {
          "output_type": "stream",
          "text": [
            "323 train examples\n",
            "81 validation examples\n",
            "102 test examples\n"
          ],
          "name": "stdout"
        }
      ]
    },
    {
      "cell_type": "markdown",
      "metadata": {
        "id": "_ZTeC55HxDeT",
        "colab_type": "text"
      },
      "source": [
        "Converting the Pandas DataFrames into Tensorflow Datasets"
      ]
    },
    {
      "cell_type": "code",
      "metadata": {
        "id": "nF4GRPPLdTIe",
        "colab_type": "code",
        "colab": {}
      },
      "source": [
        "def df_to_dataset(dataframe, shuffle=True, batch_size=32):\n",
        "  dataframe = dataframe.copy()\n",
        "  labels = dataframe.pop('target')\n",
        "  ds = tf.data.Dataset.from_tensor_slices((dict(dataframe), labels))\n",
        "  if shuffle:\n",
        "    ds = ds.shuffle(buffer_size=len(dataframe))\n",
        "  ds = ds.batch(batch_size)\n",
        "  return ds"
      ],
      "execution_count": 0,
      "outputs": []
    },
    {
      "cell_type": "code",
      "metadata": {
        "id": "UdZy7p3AaTRT",
        "colab_type": "code",
        "colab": {
          "base_uri": "https://localhost:8080/",
          "height": 88
        },
        "outputId": "dc76d4e4-890e-4532-bd47-6de0d4802774"
      },
      "source": [
        "batch_size = 32\n",
        "train_ds = df_to_dataset(train, True, batch_size)\n",
        "val_ds = df_to_dataset(val, False, batch_size)\n",
        "test_ds = df_to_dataset(test, False, batch_size)"
      ],
      "execution_count": 5,
      "outputs": [
        {
          "output_type": "stream",
          "text": [
            "WARNING:tensorflow:From /usr/local/lib/python3.6/dist-packages/tensorflow_core/python/data/util/random_seed.py:58: where (from tensorflow.python.ops.array_ops) is deprecated and will be removed in a future version.\n",
            "Instructions for updating:\n",
            "Use tf.where in 2.0, which has the same broadcast rule as np.where\n"
          ],
          "name": "stdout"
        }
      ]
    },
    {
      "cell_type": "markdown",
      "metadata": {
        "id": "HYJiPfgCuHMw",
        "colab_type": "text"
      },
      "source": [
        "**Uderstand pipeline**"
      ]
    },
    {
      "cell_type": "code",
      "metadata": {
        "id": "K2TLq_RTt8-i",
        "colab_type": "code",
        "colab": {
          "base_uri": "https://localhost:8080/",
          "height": 34
        },
        "outputId": "e02e91fb-54e1-41ab-aced-bc740c58fec4"
      },
      "source": [
        "for feature_batch,label_batch in train_ds.take(1):\n",
        "  print(list(feature_batch.keys()))"
      ],
      "execution_count": 7,
      "outputs": [
        {
          "output_type": "stream",
          "text": [
            "['CRIM', 'ZN', 'INDUS', 'CHAS', 'NOX', 'RM', 'AGE', 'DIS', 'RAD', 'TAX', 'PTRATIO', 'B', 'LSTAT']\n"
          ],
          "name": "stdout"
        }
      ]
    },
    {
      "cell_type": "markdown",
      "metadata": {
        "id": "63KuTr4sxMl6",
        "colab_type": "text"
      },
      "source": [
        "### Defining Feature Columns"
      ]
    },
    {
      "cell_type": "code",
      "metadata": {
        "id": "380jHjPokFUy",
        "colab_type": "code",
        "colab": {}
      },
      "source": [
        "# define feature_columns as a list of features using functions from tf.feature_column\n",
        "\n",
        "feature_columns = []\n",
        "for header in ['CRIM', 'ZN', 'INDUS', 'CHAS', 'NOX', 'RM', 'AGE', 'DIS', 'RAD', 'TAX', 'PTRATIO', 'B', 'LSTAT']:\n",
        "  feature_columns.append(tf.feature_column.numeric_column(header))\n",
        "\n"
      ],
      "execution_count": 0,
      "outputs": []
    },
    {
      "cell_type": "markdown",
      "metadata": {
        "id": "ykVCMrdMxVB5",
        "colab_type": "text"
      },
      "source": [
        "### Building the model"
      ]
    },
    {
      "cell_type": "code",
      "metadata": {
        "id": "oAc9LpVzqql9",
        "colab_type": "code",
        "colab": {}
      },
      "source": [
        "feature_layer = tf.keras.layers.DenseFeatures(feature_columns)"
      ],
      "execution_count": 0,
      "outputs": []
    },
    {
      "cell_type": "markdown",
      "metadata": {
        "id": "y6B9FgRyyGXe",
        "colab_type": "text"
      },
      "source": [
        "Model should contain following layers:\n",
        "\n",
        "```\n",
        "feature_layer\n",
        "\n",
        "Dense(1, activation=None)\n",
        "```\n",
        "\n",
        "Use 'Adam' optimizer\n",
        "\n",
        "Use 'mse' as your loss and metric"
      ]
    },
    {
      "cell_type": "code",
      "metadata": {
        "id": "ZInuZ8D0xsu1",
        "colab_type": "code",
        "colab": {}
      },
      "source": [
        "# Build and compile your model in this cell.\n",
        "model=tf.keras.Sequential([\n",
        "    feature_layer,\n",
        "    tf.keras.layers.Dense(1,activation=None)\n",
        "])\n",
        "model.compile(\n",
        "    optimizer='adam',\n",
        "    loss='mse',\n",
        "    metrics=['mse']\n",
        ")"
      ],
      "execution_count": 0,
      "outputs": []
    },
    {
      "cell_type": "code",
      "metadata": {
        "id": "Igdzl3wasRo6",
        "colab_type": "code",
        "colab": {
          "base_uri": "https://localhost:8080/",
          "height": 1000
        },
        "outputId": "321c2b4a-8e78-4853-f801-0779018a7a40"
      },
      "source": [
        "model.fit(train_ds, validation_data=val_ds, epochs=200)"
      ],
      "execution_count": 16,
      "outputs": [
        {
          "output_type": "stream",
          "text": [
            "WARNING:tensorflow:Layer sequential is casting an input tensor from dtype float64 to the layer's dtype of float32, which is new behavior in TensorFlow 2.  The layer has dtype float32 because it's dtype defaults to floatx.\n",
            "\n",
            "If you intended to run this layer in float32, you can safely ignore this warning. If in doubt, this warning is likely only an issue if you are porting a TensorFlow 1.X model to TensorFlow 2.\n",
            "\n",
            "To change all layers to have dtype float64 by default, call `tf.keras.backend.set_floatx('float64')`. To change just this layer, pass dtype='float64' to the layer constructor. If you are the author of this layer, you can disable autocasting by passing autocast=False to the base Layer constructor.\n",
            "\n",
            "Epoch 1/200\n",
            "WARNING:tensorflow:Entity <function Function._initialize_uninitialized_variables.<locals>.initialize_variables at 0x7faa654508c8> could not be transformed and will be executed as-is. Please report this to the AutoGraph team. When filing the bug, set the verbosity to 10 (on Linux, `export AUTOGRAPH_VERBOSITY=10`) and attach the full output. Cause: module 'gast' has no attribute 'Num'\n",
            "WARNING: Entity <function Function._initialize_uninitialized_variables.<locals>.initialize_variables at 0x7faa654508c8> could not be transformed and will be executed as-is. Please report this to the AutoGraph team. When filing the bug, set the verbosity to 10 (on Linux, `export AUTOGRAPH_VERBOSITY=10`) and attach the full output. Cause: module 'gast' has no attribute 'Num'\n",
            "11/11 [==============================] - 1s 89ms/step - loss: 1010.6683 - mse: 992.0573 - val_loss: 0.0000e+00 - val_mse: 0.0000e+00\n",
            "Epoch 2/200\n",
            "11/11 [==============================] - 0s 4ms/step - loss: 803.8815 - mse: 800.3728 - val_loss: 721.6724 - val_mse: 764.7463\n",
            "Epoch 3/200\n",
            "11/11 [==============================] - 0s 4ms/step - loss: 699.7085 - mse: 713.8892 - val_loss: 642.6663 - val_mse: 686.6089\n",
            "Epoch 4/200\n",
            "11/11 [==============================] - 0s 5ms/step - loss: 638.9317 - mse: 641.3381 - val_loss: 569.8731 - val_mse: 606.7710\n",
            "Epoch 5/200\n",
            "11/11 [==============================] - 0s 4ms/step - loss: 570.0265 - mse: 568.5804 - val_loss: 506.6186 - val_mse: 538.1591\n",
            "Epoch 6/200\n",
            "11/11 [==============================] - 0s 4ms/step - loss: 504.1715 - mse: 505.1621 - val_loss: 445.6652 - val_mse: 475.1411\n",
            "Epoch 7/200\n",
            "11/11 [==============================] - 0s 4ms/step - loss: 455.0159 - mse: 452.5957 - val_loss: 395.6945 - val_mse: 420.2958\n",
            "Epoch 8/200\n",
            "11/11 [==============================] - 0s 5ms/step - loss: 402.5394 - mse: 399.9773 - val_loss: 346.2255 - val_mse: 369.6377\n",
            "Epoch 9/200\n",
            "11/11 [==============================] - 0s 4ms/step - loss: 357.4159 - mse: 356.2687 - val_loss: 303.5358 - val_mse: 326.7106\n",
            "Epoch 10/200\n",
            "11/11 [==============================] - 0s 5ms/step - loss: 322.2434 - mse: 322.9686 - val_loss: 267.5297 - val_mse: 289.3670\n",
            "Epoch 11/200\n",
            "11/11 [==============================] - 0s 5ms/step - loss: 287.9662 - mse: 288.0334 - val_loss: 241.0004 - val_mse: 258.4739\n",
            "Epoch 12/200\n",
            "11/11 [==============================] - 0s 4ms/step - loss: 255.7522 - mse: 258.6991 - val_loss: 220.6929 - val_mse: 234.8762\n",
            "Epoch 13/200\n",
            "11/11 [==============================] - 0s 4ms/step - loss: 231.5259 - mse: 231.0292 - val_loss: 194.1581 - val_mse: 207.1229\n",
            "Epoch 14/200\n",
            "11/11 [==============================] - 0s 4ms/step - loss: 206.6870 - mse: 207.4172 - val_loss: 168.6980 - val_mse: 181.3292\n",
            "Epoch 15/200\n",
            "11/11 [==============================] - 0s 5ms/step - loss: 187.5916 - mse: 186.1933 - val_loss: 146.5645 - val_mse: 159.8002\n",
            "Epoch 16/200\n",
            "11/11 [==============================] - 0s 5ms/step - loss: 170.5744 - mse: 170.0574 - val_loss: 133.7559 - val_mse: 145.9265\n",
            "Epoch 17/200\n",
            "11/11 [==============================] - 0s 5ms/step - loss: 149.3340 - mse: 156.5220 - val_loss: 123.6162 - val_mse: 134.8631\n",
            "Epoch 18/200\n",
            "11/11 [==============================] - 0s 5ms/step - loss: 146.8717 - mse: 146.5744 - val_loss: 118.7674 - val_mse: 128.7175\n",
            "Epoch 19/200\n",
            "11/11 [==============================] - 0s 5ms/step - loss: 137.0793 - mse: 136.6976 - val_loss: 107.3007 - val_mse: 117.3153\n",
            "Epoch 20/200\n",
            "11/11 [==============================] - 0s 4ms/step - loss: 128.0924 - mse: 127.0761 - val_loss: 96.7767 - val_mse: 107.2675\n",
            "Epoch 21/200\n",
            "11/11 [==============================] - 0s 4ms/step - loss: 121.6652 - mse: 121.5646 - val_loss: 91.8299 - val_mse: 102.1314\n",
            "Epoch 22/200\n",
            "11/11 [==============================] - 0s 5ms/step - loss: 115.3564 - mse: 116.3249 - val_loss: 89.3117 - val_mse: 99.1237\n",
            "Epoch 23/200\n",
            "11/11 [==============================] - 0s 5ms/step - loss: 113.7751 - mse: 113.2170 - val_loss: 84.6411 - val_mse: 94.6764\n",
            "Epoch 24/200\n",
            "11/11 [==============================] - 0s 5ms/step - loss: 110.2494 - mse: 109.9048 - val_loss: 82.4755 - val_mse: 92.2587\n",
            "Epoch 25/200\n",
            "11/11 [==============================] - 0s 4ms/step - loss: 106.0467 - mse: 106.3373 - val_loss: 82.0588 - val_mse: 91.4917\n",
            "Epoch 26/200\n",
            "11/11 [==============================] - 0s 4ms/step - loss: 102.9901 - mse: 103.9197 - val_loss: 79.5976 - val_mse: 89.0077\n",
            "Epoch 27/200\n",
            "11/11 [==============================] - 0s 5ms/step - loss: 102.2447 - mse: 101.4798 - val_loss: 77.0473 - val_mse: 86.4816\n",
            "Epoch 28/200\n",
            "11/11 [==============================] - 0s 5ms/step - loss: 97.7488 - mse: 99.7279 - val_loss: 74.5379 - val_mse: 84.0856\n",
            "Epoch 29/200\n",
            "11/11 [==============================] - 0s 4ms/step - loss: 99.5764 - mse: 98.8564 - val_loss: 72.8923 - val_mse: 82.4934\n",
            "Epoch 30/200\n",
            "11/11 [==============================] - 0s 5ms/step - loss: 97.4038 - mse: 96.9002 - val_loss: 73.4612 - val_mse: 82.8611\n",
            "Epoch 31/200\n",
            "11/11 [==============================] - 0s 5ms/step - loss: 96.3239 - mse: 95.5514 - val_loss: 72.7911 - val_mse: 82.1774\n",
            "Epoch 32/200\n",
            "11/11 [==============================] - 0s 4ms/step - loss: 95.3742 - mse: 94.6817 - val_loss: 72.1610 - val_mse: 81.5428\n",
            "Epoch 33/200\n",
            "11/11 [==============================] - 0s 5ms/step - loss: 94.2174 - mse: 93.8481 - val_loss: 71.1078 - val_mse: 80.5168\n",
            "Epoch 34/200\n",
            "11/11 [==============================] - 0s 4ms/step - loss: 93.6473 - mse: 93.0118 - val_loss: 69.9796 - val_mse: 79.4227\n",
            "Epoch 35/200\n",
            "11/11 [==============================] - 0s 4ms/step - loss: 92.7477 - mse: 92.7043 - val_loss: 69.9196 - val_mse: 79.3165\n",
            "Epoch 36/200\n",
            "11/11 [==============================] - 0s 5ms/step - loss: 92.6581 - mse: 92.1468 - val_loss: 69.3203 - val_mse: 78.7025\n",
            "Epoch 37/200\n",
            "11/11 [==============================] - 0s 4ms/step - loss: 92.3827 - mse: 91.7643 - val_loss: 69.5507 - val_mse: 78.8769\n",
            "Epoch 38/200\n",
            "11/11 [==============================] - 0s 5ms/step - loss: 91.2703 - mse: 90.6888 - val_loss: 68.9409 - val_mse: 78.2725\n",
            "Epoch 39/200\n",
            "11/11 [==============================] - 0s 5ms/step - loss: 89.0034 - mse: 90.0639 - val_loss: 69.0564 - val_mse: 78.3640\n",
            "Epoch 40/200\n",
            "11/11 [==============================] - 0s 5ms/step - loss: 89.8971 - mse: 89.3770 - val_loss: 68.1290 - val_mse: 77.4165\n",
            "Epoch 41/200\n",
            "11/11 [==============================] - 0s 5ms/step - loss: 88.5860 - mse: 89.0007 - val_loss: 67.6805 - val_mse: 76.9513\n",
            "Epoch 42/200\n",
            "11/11 [==============================] - 0s 4ms/step - loss: 88.8946 - mse: 88.8728 - val_loss: 69.4347 - val_mse: 78.6435\n",
            "Epoch 43/200\n",
            "11/11 [==============================] - 0s 4ms/step - loss: 88.5277 - mse: 87.8625 - val_loss: 67.1257 - val_mse: 76.3568\n",
            "Epoch 44/200\n",
            "11/11 [==============================] - 0s 5ms/step - loss: 85.6835 - mse: 87.3607 - val_loss: 66.9383 - val_mse: 76.1436\n",
            "Epoch 45/200\n",
            "11/11 [==============================] - 0s 4ms/step - loss: 84.6796 - mse: 86.8397 - val_loss: 68.5184 - val_mse: 77.6881\n",
            "Epoch 46/200\n",
            "11/11 [==============================] - 0s 5ms/step - loss: 88.0126 - mse: 87.5100 - val_loss: 65.4145 - val_mse: 74.5769\n",
            "Epoch 47/200\n",
            "11/11 [==============================] - 0s 5ms/step - loss: 87.3600 - mse: 86.8593 - val_loss: 65.4312 - val_mse: 74.5295\n",
            "Epoch 48/200\n",
            "11/11 [==============================] - 0s 5ms/step - loss: 82.9168 - mse: 85.2074 - val_loss: 67.2332 - val_mse: 76.2639\n",
            "Epoch 49/200\n",
            "11/11 [==============================] - 0s 5ms/step - loss: 85.7749 - mse: 85.1388 - val_loss: 67.2577 - val_mse: 76.2577\n",
            "Epoch 50/200\n",
            "11/11 [==============================] - 0s 5ms/step - loss: 84.6948 - mse: 84.7041 - val_loss: 65.2480 - val_mse: 74.2524\n",
            "Epoch 51/200\n",
            "11/11 [==============================] - 0s 4ms/step - loss: 84.5026 - mse: 84.0825 - val_loss: 64.8106 - val_mse: 73.7916\n",
            "Epoch 52/200\n",
            "11/11 [==============================] - 0s 5ms/step - loss: 84.4739 - mse: 83.7986 - val_loss: 65.8694 - val_mse: 74.8270\n",
            "Epoch 53/200\n",
            "11/11 [==============================] - 0s 5ms/step - loss: 83.8406 - mse: 83.8007 - val_loss: 64.5240 - val_mse: 73.4461\n",
            "Epoch 54/200\n",
            "11/11 [==============================] - 0s 4ms/step - loss: 83.0679 - mse: 82.5436 - val_loss: 66.6645 - val_mse: 75.5698\n",
            "Epoch 55/200\n",
            "11/11 [==============================] - 0s 4ms/step - loss: 83.1625 - mse: 82.7033 - val_loss: 64.5237 - val_mse: 73.4096\n",
            "Epoch 56/200\n",
            "11/11 [==============================] - 0s 4ms/step - loss: 82.2605 - mse: 81.8357 - val_loss: 63.3916 - val_mse: 72.2640\n",
            "Epoch 57/200\n",
            "11/11 [==============================] - 0s 5ms/step - loss: 82.3899 - mse: 82.0831 - val_loss: 63.0214 - val_mse: 71.8661\n",
            "Epoch 58/200\n",
            "11/11 [==============================] - 0s 5ms/step - loss: 81.3693 - mse: 81.1950 - val_loss: 64.6630 - val_mse: 73.4717\n",
            "Epoch 59/200\n",
            "11/11 [==============================] - 0s 5ms/step - loss: 81.0333 - mse: 81.2247 - val_loss: 63.6368 - val_mse: 72.4245\n",
            "Epoch 60/200\n",
            "11/11 [==============================] - 0s 5ms/step - loss: 82.4080 - mse: 81.9469 - val_loss: 62.0211 - val_mse: 70.7346\n",
            "Epoch 61/200\n",
            "11/11 [==============================] - 0s 5ms/step - loss: 80.9840 - mse: 80.3145 - val_loss: 62.7074 - val_mse: 71.3577\n",
            "Epoch 62/200\n",
            "11/11 [==============================] - 0s 5ms/step - loss: 80.3988 - mse: 79.7421 - val_loss: 63.1627 - val_mse: 71.7832\n",
            "Epoch 63/200\n",
            "11/11 [==============================] - 0s 5ms/step - loss: 80.0184 - mse: 79.3744 - val_loss: 61.8347 - val_mse: 70.4212\n",
            "Epoch 64/200\n",
            "11/11 [==============================] - 0s 5ms/step - loss: 79.6472 - mse: 79.0522 - val_loss: 61.9276 - val_mse: 70.4821\n",
            "Epoch 65/200\n",
            "11/11 [==============================] - 0s 5ms/step - loss: 79.1738 - mse: 78.5382 - val_loss: 61.3151 - val_mse: 69.8493\n",
            "Epoch 66/200\n",
            "11/11 [==============================] - 0s 5ms/step - loss: 78.6430 - mse: 78.3486 - val_loss: 61.3645 - val_mse: 69.8599\n",
            "Epoch 67/200\n",
            "11/11 [==============================] - 0s 5ms/step - loss: 78.7776 - mse: 78.2179 - val_loss: 60.5280 - val_mse: 68.9695\n",
            "Epoch 68/200\n",
            "11/11 [==============================] - 0s 4ms/step - loss: 77.4466 - mse: 77.5337 - val_loss: 60.9977 - val_mse: 69.4010\n",
            "Epoch 69/200\n",
            "11/11 [==============================] - 0s 4ms/step - loss: 77.9139 - mse: 77.7757 - val_loss: 59.9007 - val_mse: 68.2310\n",
            "Epoch 70/200\n",
            "11/11 [==============================] - 0s 4ms/step - loss: 77.2501 - mse: 77.1779 - val_loss: 60.0907 - val_mse: 68.4046\n",
            "Epoch 71/200\n",
            "11/11 [==============================] - 0s 4ms/step - loss: 75.6345 - mse: 77.0089 - val_loss: 62.1976 - val_mse: 70.4724\n",
            "Epoch 72/200\n",
            "11/11 [==============================] - 0s 4ms/step - loss: 77.7047 - mse: 77.3185 - val_loss: 59.3693 - val_mse: 67.6321\n",
            "Epoch 73/200\n",
            "11/11 [==============================] - 0s 5ms/step - loss: 76.2829 - mse: 75.8138 - val_loss: 60.0575 - val_mse: 68.2845\n",
            "Epoch 74/200\n",
            "11/11 [==============================] - 0s 5ms/step - loss: 75.5612 - mse: 75.3121 - val_loss: 59.6458 - val_mse: 67.8643\n",
            "Epoch 75/200\n",
            "11/11 [==============================] - 0s 5ms/step - loss: 73.1968 - mse: 75.1471 - val_loss: 59.5723 - val_mse: 67.7815\n",
            "Epoch 76/200\n",
            "11/11 [==============================] - 0s 5ms/step - loss: 71.8359 - mse: 74.1122 - val_loss: 58.5402 - val_mse: 66.6806\n",
            "Epoch 77/200\n",
            "11/11 [==============================] - 0s 4ms/step - loss: 76.5653 - mse: 76.1205 - val_loss: 58.3991 - val_mse: 66.5144\n",
            "Epoch 78/200\n",
            "11/11 [==============================] - 0s 4ms/step - loss: 73.5839 - mse: 74.0950 - val_loss: 59.2096 - val_mse: 67.3438\n",
            "Epoch 79/200\n",
            "11/11 [==============================] - 0s 4ms/step - loss: 74.8182 - mse: 74.2211 - val_loss: 61.3910 - val_mse: 69.5654\n",
            "Epoch 80/200\n",
            "11/11 [==============================] - 0s 4ms/step - loss: 73.7200 - mse: 73.6736 - val_loss: 58.6362 - val_mse: 66.7399\n",
            "Epoch 81/200\n",
            "11/11 [==============================] - 0s 5ms/step - loss: 74.5018 - mse: 73.9110 - val_loss: 57.7424 - val_mse: 65.8074\n",
            "Epoch 82/200\n",
            "11/11 [==============================] - 0s 5ms/step - loss: 73.0081 - mse: 72.5708 - val_loss: 58.1414 - val_mse: 66.2103\n",
            "Epoch 83/200\n",
            "11/11 [==============================] - 0s 4ms/step - loss: 71.2928 - mse: 72.2053 - val_loss: 58.5493 - val_mse: 66.5931\n",
            "Epoch 84/200\n",
            "11/11 [==============================] - 0s 4ms/step - loss: 74.7943 - mse: 74.3237 - val_loss: 60.7527 - val_mse: 68.8403\n",
            "Epoch 85/200\n",
            "11/11 [==============================] - 0s 4ms/step - loss: 74.0983 - mse: 74.0668 - val_loss: 56.8678 - val_mse: 64.7991\n",
            "Epoch 86/200\n",
            "11/11 [==============================] - 0s 5ms/step - loss: 71.6905 - mse: 71.1923 - val_loss: 58.0352 - val_mse: 65.9671\n",
            "Epoch 87/200\n",
            "11/11 [==============================] - 0s 4ms/step - loss: 67.9507 - mse: 71.0671 - val_loss: 57.9781 - val_mse: 65.8885\n",
            "Epoch 88/200\n",
            "11/11 [==============================] - 0s 5ms/step - loss: 72.2274 - mse: 71.8096 - val_loss: 59.3892 - val_mse: 67.3268\n",
            "Epoch 89/200\n",
            "11/11 [==============================] - 0s 5ms/step - loss: 69.8561 - mse: 70.3827 - val_loss: 56.0620 - val_mse: 63.8651\n",
            "Epoch 90/200\n",
            "11/11 [==============================] - 0s 5ms/step - loss: 70.3607 - mse: 69.8929 - val_loss: 56.0170 - val_mse: 63.8077\n",
            "Epoch 91/200\n",
            "11/11 [==============================] - 0s 4ms/step - loss: 67.8888 - mse: 69.2890 - val_loss: 56.8735 - val_mse: 64.6699\n",
            "Epoch 92/200\n",
            "11/11 [==============================] - 0s 4ms/step - loss: 68.2668 - mse: 70.1055 - val_loss: 58.2186 - val_mse: 66.0757\n",
            "Epoch 93/200\n",
            "11/11 [==============================] - 0s 4ms/step - loss: 70.8658 - mse: 70.2961 - val_loss: 55.5632 - val_mse: 63.2087\n",
            "Epoch 94/200\n",
            "11/11 [==============================] - 0s 4ms/step - loss: 69.7044 - mse: 69.4073 - val_loss: 55.2824 - val_mse: 62.9433\n",
            "Epoch 95/200\n",
            "11/11 [==============================] - 0s 5ms/step - loss: 68.2540 - mse: 67.8852 - val_loss: 55.3660 - val_mse: 63.0149\n",
            "Epoch 96/200\n",
            "11/11 [==============================] - 0s 5ms/step - loss: 67.7485 - mse: 67.5546 - val_loss: 55.5734 - val_mse: 63.1936\n",
            "Epoch 97/200\n",
            "11/11 [==============================] - 0s 5ms/step - loss: 67.6287 - mse: 67.3735 - val_loss: 54.9036 - val_mse: 62.4667\n",
            "Epoch 98/200\n",
            "11/11 [==============================] - 0s 4ms/step - loss: 68.1715 - mse: 68.2896 - val_loss: 54.3104 - val_mse: 61.8034\n",
            "Epoch 99/200\n",
            "11/11 [==============================] - 0s 4ms/step - loss: 67.3910 - mse: 66.9442 - val_loss: 54.0977 - val_mse: 61.4977\n",
            "Epoch 100/200\n",
            "11/11 [==============================] - 0s 4ms/step - loss: 67.1954 - mse: 67.0560 - val_loss: 55.2603 - val_mse: 62.6588\n",
            "Epoch 101/200\n",
            "11/11 [==============================] - 0s 5ms/step - loss: 66.4614 - mse: 66.5820 - val_loss: 53.6466 - val_mse: 60.9952\n",
            "Epoch 102/200\n",
            "11/11 [==============================] - 0s 4ms/step - loss: 66.6577 - mse: 66.1991 - val_loss: 53.5901 - val_mse: 60.8905\n",
            "Epoch 103/200\n",
            "11/11 [==============================] - 0s 5ms/step - loss: 66.1591 - mse: 65.9261 - val_loss: 53.7907 - val_mse: 61.0751\n",
            "Epoch 104/200\n",
            "11/11 [==============================] - 0s 4ms/step - loss: 64.8853 - mse: 65.4309 - val_loss: 53.0924 - val_mse: 60.3303\n",
            "Epoch 105/200\n",
            "11/11 [==============================] - 0s 5ms/step - loss: 65.1689 - mse: 65.6678 - val_loss: 52.8829 - val_mse: 60.1171\n",
            "Epoch 106/200\n",
            "11/11 [==============================] - 0s 5ms/step - loss: 65.4731 - mse: 65.5855 - val_loss: 52.8499 - val_mse: 60.0599\n",
            "Epoch 107/200\n",
            "11/11 [==============================] - 0s 4ms/step - loss: 65.1445 - mse: 64.8029 - val_loss: 53.6501 - val_mse: 60.8903\n",
            "Epoch 108/200\n",
            "11/11 [==============================] - 0s 4ms/step - loss: 63.7275 - mse: 64.6428 - val_loss: 53.1036 - val_mse: 60.2857\n",
            "Epoch 109/200\n",
            "11/11 [==============================] - 0s 5ms/step - loss: 63.2275 - mse: 64.2897 - val_loss: 52.4260 - val_mse: 59.5833\n",
            "Epoch 110/200\n",
            "11/11 [==============================] - 0s 5ms/step - loss: 63.0580 - mse: 64.4530 - val_loss: 52.0581 - val_mse: 59.1351\n",
            "Epoch 111/200\n",
            "11/11 [==============================] - 0s 5ms/step - loss: 64.0984 - mse: 65.4776 - val_loss: 51.9614 - val_mse: 59.0013\n",
            "Epoch 112/200\n",
            "11/11 [==============================] - 0s 5ms/step - loss: 64.7962 - mse: 64.4982 - val_loss: 51.6817 - val_mse: 58.7184\n",
            "Epoch 113/200\n",
            "11/11 [==============================] - 0s 5ms/step - loss: 64.2248 - mse: 63.8615 - val_loss: 52.5712 - val_mse: 59.6097\n",
            "Epoch 114/200\n",
            "11/11 [==============================] - 0s 4ms/step - loss: 62.1451 - mse: 63.0666 - val_loss: 52.1275 - val_mse: 59.1580\n",
            "Epoch 115/200\n",
            "11/11 [==============================] - 0s 5ms/step - loss: 62.8541 - mse: 62.6915 - val_loss: 51.7651 - val_mse: 58.8047\n",
            "Epoch 116/200\n",
            "11/11 [==============================] - 0s 4ms/step - loss: 62.8253 - mse: 62.3690 - val_loss: 51.8568 - val_mse: 58.8824\n",
            "Epoch 117/200\n",
            "11/11 [==============================] - 0s 5ms/step - loss: 62.4128 - mse: 62.0924 - val_loss: 51.4718 - val_mse: 58.4660\n",
            "Epoch 118/200\n",
            "11/11 [==============================] - 0s 5ms/step - loss: 62.3116 - mse: 61.9116 - val_loss: 51.1378 - val_mse: 58.0846\n",
            "Epoch 119/200\n",
            "11/11 [==============================] - 0s 4ms/step - loss: 62.3882 - mse: 61.9436 - val_loss: 51.2562 - val_mse: 58.1980\n",
            "Epoch 120/200\n",
            "11/11 [==============================] - 0s 5ms/step - loss: 61.4201 - mse: 61.8150 - val_loss: 50.7841 - val_mse: 57.7026\n",
            "Epoch 121/200\n",
            "11/11 [==============================] - 0s 5ms/step - loss: 61.2327 - mse: 62.1672 - val_loss: 53.9547 - val_mse: 61.0219\n",
            "Epoch 122/200\n",
            "11/11 [==============================] - 0s 5ms/step - loss: 63.6614 - mse: 63.8942 - val_loss: 54.0832 - val_mse: 61.1947\n",
            "Epoch 123/200\n",
            "11/11 [==============================] - 0s 4ms/step - loss: 62.3660 - mse: 62.0464 - val_loss: 51.3803 - val_mse: 58.3909\n",
            "Epoch 124/200\n",
            "11/11 [==============================] - 0s 5ms/step - loss: 60.2619 - mse: 60.3013 - val_loss: 50.1448 - val_mse: 56.9986\n",
            "Epoch 125/200\n",
            "11/11 [==============================] - 0s 4ms/step - loss: 61.6468 - mse: 61.1735 - val_loss: 50.8787 - val_mse: 57.7790\n",
            "Epoch 126/200\n",
            "11/11 [==============================] - 0s 5ms/step - loss: 59.9919 - mse: 60.0710 - val_loss: 50.5359 - val_mse: 57.3732\n",
            "Epoch 127/200\n",
            "11/11 [==============================] - 0s 5ms/step - loss: 60.1153 - mse: 60.7276 - val_loss: 50.7670 - val_mse: 57.6157\n",
            "Epoch 128/200\n",
            "11/11 [==============================] - 0s 5ms/step - loss: 58.7851 - mse: 60.3156 - val_loss: 49.5832 - val_mse: 56.2365\n",
            "Epoch 129/200\n",
            "11/11 [==============================] - 0s 5ms/step - loss: 60.7393 - mse: 60.6081 - val_loss: 49.3331 - val_mse: 55.9924\n",
            "Epoch 130/200\n",
            "11/11 [==============================] - 0s 4ms/step - loss: 59.5969 - mse: 59.2316 - val_loss: 50.1931 - val_mse: 56.8772\n",
            "Epoch 131/200\n",
            "11/11 [==============================] - 0s 4ms/step - loss: 59.6187 - mse: 59.3961 - val_loss: 49.8362 - val_mse: 56.4762\n",
            "Epoch 132/200\n",
            "11/11 [==============================] - 0s 5ms/step - loss: 59.4302 - mse: 59.0854 - val_loss: 48.7680 - val_mse: 55.2819\n",
            "Epoch 133/200\n",
            "11/11 [==============================] - 0s 4ms/step - loss: 58.5790 - mse: 58.4631 - val_loss: 49.8790 - val_mse: 56.4878\n",
            "Epoch 134/200\n",
            "11/11 [==============================] - 0s 5ms/step - loss: 58.1773 - mse: 58.4663 - val_loss: 49.0089 - val_mse: 55.5816\n",
            "Epoch 135/200\n",
            "11/11 [==============================] - 0s 4ms/step - loss: 59.5918 - mse: 59.2015 - val_loss: 48.4801 - val_mse: 54.9774\n",
            "Epoch 136/200\n",
            "11/11 [==============================] - 0s 4ms/step - loss: 56.4905 - mse: 57.9559 - val_loss: 48.8993 - val_mse: 55.4573\n",
            "Epoch 137/200\n",
            "11/11 [==============================] - 0s 5ms/step - loss: 58.5064 - mse: 58.2549 - val_loss: 48.2014 - val_mse: 54.6388\n",
            "Epoch 138/200\n",
            "11/11 [==============================] - 0s 5ms/step - loss: 57.9838 - mse: 57.7798 - val_loss: 49.2483 - val_mse: 55.7398\n",
            "Epoch 139/200\n",
            "11/11 [==============================] - 0s 4ms/step - loss: 57.8734 - mse: 57.6096 - val_loss: 48.1708 - val_mse: 54.5754\n",
            "Epoch 140/200\n",
            "11/11 [==============================] - 0s 5ms/step - loss: 57.4640 - mse: 57.3564 - val_loss: 48.0436 - val_mse: 54.4183\n",
            "Epoch 141/200\n",
            "11/11 [==============================] - 0s 4ms/step - loss: 56.7043 - mse: 56.9788 - val_loss: 48.7342 - val_mse: 55.1658\n",
            "Epoch 142/200\n",
            "11/11 [==============================] - 0s 4ms/step - loss: 57.4984 - mse: 57.2838 - val_loss: 49.0144 - val_mse: 55.5061\n",
            "Epoch 143/200\n",
            "11/11 [==============================] - 0s 5ms/step - loss: 56.2363 - mse: 56.8531 - val_loss: 48.0842 - val_mse: 54.5458\n",
            "Epoch 144/200\n",
            "11/11 [==============================] - 0s 5ms/step - loss: 57.7572 - mse: 57.3027 - val_loss: 47.6773 - val_mse: 54.0718\n",
            "Epoch 145/200\n",
            "11/11 [==============================] - 0s 5ms/step - loss: 57.2114 - mse: 56.9319 - val_loss: 48.4307 - val_mse: 54.9466\n",
            "Epoch 146/200\n",
            "11/11 [==============================] - 0s 5ms/step - loss: 56.3178 - mse: 56.6830 - val_loss: 48.3734 - val_mse: 54.8816\n",
            "Epoch 147/200\n",
            "11/11 [==============================] - 0s 5ms/step - loss: 56.1119 - mse: 55.9667 - val_loss: 47.4106 - val_mse: 53.7951\n",
            "Epoch 148/200\n",
            "11/11 [==============================] - 0s 5ms/step - loss: 56.6523 - mse: 56.1976 - val_loss: 47.7204 - val_mse: 54.1706\n",
            "Epoch 149/200\n",
            "11/11 [==============================] - 0s 4ms/step - loss: 56.3258 - mse: 55.8966 - val_loss: 47.8400 - val_mse: 54.2878\n",
            "Epoch 150/200\n",
            "11/11 [==============================] - 0s 5ms/step - loss: 56.1745 - mse: 55.7152 - val_loss: 47.7030 - val_mse: 54.0798\n",
            "Epoch 151/200\n",
            "11/11 [==============================] - 0s 5ms/step - loss: 55.5509 - mse: 55.3651 - val_loss: 47.0855 - val_mse: 53.3672\n",
            "Epoch 152/200\n",
            "11/11 [==============================] - 0s 5ms/step - loss: 55.6350 - mse: 55.2461 - val_loss: 46.9944 - val_mse: 53.2420\n",
            "Epoch 153/200\n",
            "11/11 [==============================] - 0s 4ms/step - loss: 55.3656 - mse: 55.0202 - val_loss: 47.1442 - val_mse: 53.3774\n",
            "Epoch 154/200\n",
            "11/11 [==============================] - 0s 4ms/step - loss: 54.5028 - mse: 54.9857 - val_loss: 46.5446 - val_mse: 52.6916\n",
            "Epoch 155/200\n",
            "11/11 [==============================] - 0s 5ms/step - loss: 56.7512 - mse: 56.6510 - val_loss: 46.5470 - val_mse: 52.5700\n",
            "Epoch 156/200\n",
            "11/11 [==============================] - 0s 4ms/step - loss: 55.5169 - mse: 55.4423 - val_loss: 47.0351 - val_mse: 53.1791\n",
            "Epoch 157/200\n",
            "11/11 [==============================] - 0s 4ms/step - loss: 53.8750 - mse: 54.6728 - val_loss: 46.6269 - val_mse: 52.7474\n",
            "Epoch 158/200\n",
            "11/11 [==============================] - 0s 4ms/step - loss: 54.5295 - mse: 54.2747 - val_loss: 46.0837 - val_mse: 52.1210\n",
            "Epoch 159/200\n",
            "11/11 [==============================] - 0s 4ms/step - loss: 54.9094 - mse: 54.7144 - val_loss: 46.2512 - val_mse: 52.3642\n",
            "Epoch 160/200\n",
            "11/11 [==============================] - 0s 6ms/step - loss: 53.3972 - mse: 54.6577 - val_loss: 47.4253 - val_mse: 53.6026\n",
            "Epoch 161/200\n",
            "11/11 [==============================] - 0s 4ms/step - loss: 52.7888 - mse: 53.7433 - val_loss: 46.2660 - val_mse: 52.1835\n",
            "Epoch 162/200\n",
            "11/11 [==============================] - 0s 4ms/step - loss: 56.4576 - mse: 56.0692 - val_loss: 45.6358 - val_mse: 51.4580\n",
            "Epoch 163/200\n",
            "11/11 [==============================] - 0s 4ms/step - loss: 55.2730 - mse: 54.8378 - val_loss: 47.5775 - val_mse: 53.5030\n",
            "Epoch 164/200\n",
            "11/11 [==============================] - 0s 4ms/step - loss: 54.3706 - mse: 54.0642 - val_loss: 45.6780 - val_mse: 51.5178\n",
            "Epoch 165/200\n",
            "11/11 [==============================] - 0s 4ms/step - loss: 54.4431 - mse: 54.1658 - val_loss: 45.3389 - val_mse: 51.1427\n",
            "Epoch 166/200\n",
            "11/11 [==============================] - 0s 5ms/step - loss: 53.3769 - mse: 53.4749 - val_loss: 47.0034 - val_mse: 52.9771\n",
            "Epoch 167/200\n",
            "11/11 [==============================] - 0s 5ms/step - loss: 53.6899 - mse: 53.4149 - val_loss: 46.0183 - val_mse: 51.9279\n",
            "Epoch 168/200\n",
            "11/11 [==============================] - 0s 4ms/step - loss: 52.9909 - mse: 53.0502 - val_loss: 45.5711 - val_mse: 51.4445\n",
            "Epoch 169/200\n",
            "11/11 [==============================] - 0s 5ms/step - loss: 52.3692 - mse: 52.8426 - val_loss: 45.2691 - val_mse: 51.0446\n",
            "Epoch 170/200\n",
            "11/11 [==============================] - 0s 5ms/step - loss: 53.4373 - mse: 53.3279 - val_loss: 46.5619 - val_mse: 52.3822\n",
            "Epoch 171/200\n",
            "11/11 [==============================] - 0s 5ms/step - loss: 52.6747 - mse: 52.3235 - val_loss: 44.8879 - val_mse: 50.5428\n",
            "Epoch 172/200\n",
            "11/11 [==============================] - 0s 5ms/step - loss: 52.6412 - mse: 53.4576 - val_loss: 44.7872 - val_mse: 50.4520\n",
            "Epoch 173/200\n",
            "11/11 [==============================] - 0s 5ms/step - loss: 53.1063 - mse: 52.7749 - val_loss: 44.7574 - val_mse: 50.4323\n",
            "Epoch 174/200\n",
            "11/11 [==============================] - 0s 4ms/step - loss: 50.4468 - mse: 52.0064 - val_loss: 45.6536 - val_mse: 51.4222\n",
            "Epoch 175/200\n",
            "11/11 [==============================] - 0s 4ms/step - loss: 52.1748 - mse: 51.9618 - val_loss: 44.6506 - val_mse: 50.3726\n",
            "Epoch 176/200\n",
            "11/11 [==============================] - 0s 5ms/step - loss: 52.2992 - mse: 52.0589 - val_loss: 44.7752 - val_mse: 50.5413\n",
            "Epoch 177/200\n",
            "11/11 [==============================] - 0s 5ms/step - loss: 51.7311 - mse: 51.7969 - val_loss: 45.2527 - val_mse: 51.0350\n",
            "Epoch 178/200\n",
            "11/11 [==============================] - 0s 6ms/step - loss: 52.4705 - mse: 52.0395 - val_loss: 44.9182 - val_mse: 50.6000\n",
            "Epoch 179/200\n",
            "11/11 [==============================] - 0s 5ms/step - loss: 52.9153 - mse: 52.5674 - val_loss: 44.3555 - val_mse: 49.9495\n",
            "Epoch 180/200\n",
            "11/11 [==============================] - 0s 5ms/step - loss: 52.0184 - mse: 52.0029 - val_loss: 45.5521 - val_mse: 51.2889\n",
            "Epoch 181/200\n",
            "11/11 [==============================] - 0s 5ms/step - loss: 51.5643 - mse: 51.4916 - val_loss: 44.2438 - val_mse: 49.8270\n",
            "Epoch 182/200\n",
            "11/11 [==============================] - 0s 4ms/step - loss: 50.7554 - mse: 51.2399 - val_loss: 45.3694 - val_mse: 51.0670\n",
            "Epoch 183/200\n",
            "11/11 [==============================] - 0s 4ms/step - loss: 50.8775 - mse: 50.9986 - val_loss: 44.0444 - val_mse: 49.6742\n",
            "Epoch 184/200\n",
            "11/11 [==============================] - 0s 4ms/step - loss: 51.2206 - mse: 51.0017 - val_loss: 44.0207 - val_mse: 49.6577\n",
            "Epoch 185/200\n",
            "11/11 [==============================] - 0s 5ms/step - loss: 51.1897 - mse: 50.9027 - val_loss: 44.1380 - val_mse: 49.8179\n",
            "Epoch 186/200\n",
            "11/11 [==============================] - 0s 4ms/step - loss: 50.9370 - mse: 50.6979 - val_loss: 44.6392 - val_mse: 50.3873\n",
            "Epoch 187/200\n",
            "11/11 [==============================] - 0s 4ms/step - loss: 50.5940 - mse: 50.5951 - val_loss: 44.0047 - val_mse: 49.6405\n",
            "Epoch 188/200\n",
            "11/11 [==============================] - 0s 5ms/step - loss: 50.8585 - mse: 50.5287 - val_loss: 44.0330 - val_mse: 49.6020\n",
            "Epoch 189/200\n",
            "11/11 [==============================] - 0s 5ms/step - loss: 50.9545 - mse: 50.8019 - val_loss: 44.6118 - val_mse: 50.1906\n",
            "Epoch 190/200\n",
            "11/11 [==============================] - 0s 4ms/step - loss: 50.1200 - mse: 50.3416 - val_loss: 43.8589 - val_mse: 49.3310\n",
            "Epoch 191/200\n",
            "11/11 [==============================] - 0s 4ms/step - loss: 50.8724 - mse: 50.6032 - val_loss: 44.2888 - val_mse: 49.7542\n",
            "Epoch 192/200\n",
            "11/11 [==============================] - 0s 5ms/step - loss: 50.5872 - mse: 50.2755 - val_loss: 43.6107 - val_mse: 49.0242\n",
            "Epoch 193/200\n",
            "11/11 [==============================] - 0s 5ms/step - loss: 50.9127 - mse: 50.7382 - val_loss: 43.4320 - val_mse: 48.7931\n",
            "Epoch 194/200\n",
            "11/11 [==============================] - 0s 5ms/step - loss: 50.1211 - mse: 50.2682 - val_loss: 43.7597 - val_mse: 49.2129\n",
            "Epoch 195/200\n",
            "11/11 [==============================] - 0s 4ms/step - loss: 49.5593 - mse: 50.2690 - val_loss: 44.2681 - val_mse: 49.7965\n",
            "Epoch 196/200\n",
            "11/11 [==============================] - 0s 4ms/step - loss: 50.0618 - mse: 49.7909 - val_loss: 43.4237 - val_mse: 48.7992\n",
            "Epoch 197/200\n",
            "11/11 [==============================] - 0s 5ms/step - loss: 50.1170 - mse: 49.7464 - val_loss: 43.2483 - val_mse: 48.5905\n",
            "Epoch 198/200\n",
            "11/11 [==============================] - 0s 4ms/step - loss: 49.7486 - mse: 49.5778 - val_loss: 43.5382 - val_mse: 48.9302\n",
            "Epoch 199/200\n",
            "11/11 [==============================] - 0s 5ms/step - loss: 49.8434 - mse: 49.4917 - val_loss: 43.9150 - val_mse: 49.3792\n",
            "Epoch 200/200\n",
            "11/11 [==============================] - 0s 5ms/step - loss: 50.6008 - mse: 50.3163 - val_loss: 43.2691 - val_mse: 48.6683\n"
          ],
          "name": "stdout"
        },
        {
          "output_type": "execute_result",
          "data": {
            "text/plain": [
              "<tensorflow.python.keras.callbacks.History at 0x7faa6b7bab70>"
            ]
          },
          "metadata": {
            "tags": []
          },
          "execution_count": 16
        }
      ]
    },
    {
      "cell_type": "code",
      "metadata": {
        "id": "NFu2k4J_spfi",
        "colab_type": "code",
        "colab": {
          "base_uri": "https://localhost:8080/",
          "height": 51
        },
        "outputId": "61bef099-0498-4617-af01-c0c89a1caafd"
      },
      "source": [
        "loss, mse = model.evaluate(test_ds)\n",
        "print(\"Mean Squared Error - Test Data\", mse)"
      ],
      "execution_count": 17,
      "outputs": [
        {
          "output_type": "stream",
          "text": [
            "4/4 [==============================] - 0s 3ms/step - loss: 59.2110 - mse: 58.9268\n",
            "Mean Squared Error - Test Data 58.926773\n"
          ],
          "name": "stdout"
        }
      ]
    }
  ]
}